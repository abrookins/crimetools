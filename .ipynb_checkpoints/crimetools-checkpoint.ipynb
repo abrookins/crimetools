{
 "metadata": {
  "name": "",
  "signature": "sha256:864b663c631840c44dfe081c4d074807ea106e6ec013e8c92953bc480da07f21"
 },
 "nbformat": 3,
 "nbformat_minor": 0,
 "worksheets": []
}